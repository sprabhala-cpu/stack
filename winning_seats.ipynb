{
  "nbformat": 4,
  "nbformat_minor": 0,
  "metadata": {
    "colab": {
      "name": "winning seats.ipynb",
      "provenance": []
    },
    "kernelspec": {
      "name": "python3",
      "display_name": "Python 3"
    },
    "language_info": {
      "name": "python"
    }
  },
  "cells": [
    {
      "cell_type": "markdown",
      "metadata": {
        "id": "0mvlHIhYZDse"
      },
      "source": [
        "get the seats which have\n",
        "always elected the party that has gone on to win the state election (most votes\n",
        "secured at state). So if the RJD won at the state level in 2010, then seats which\n",
        "voted an RJD candidate as winner are considered in this category. This criteria\n",
        "for a seat has to be matched for each election"
      ]
    },
    {
      "cell_type": "code",
      "metadata": {
        "id": "lj2GmvKPnCnr"
      },
      "source": [
        "import pandas as pd\n",
        "data=pd.read_csv('/content/Bihar_Election_Results .csv')"
      ],
      "execution_count": 104,
      "outputs": []
    },
    {
      "cell_type": "code",
      "metadata": {
        "id": "Gy-_6fplGPAJ"
      },
      "source": [
        "df1=data.groupby(['Election Year','Party'],as_index=False)['Votes'].sum()\n",
        "df1=df1.loc[df1.groupby(['Election Year'])['Votes'].idxmax(),['Election Year','Party']].set_index('Election Year')"
      ],
      "execution_count": 105,
      "outputs": []
    },
    {
      "cell_type": "code",
      "metadata": {
        "colab": {
          "base_uri": "https://localhost:8080/",
          "height": 203
        },
        "id": "ebEpbEbLHeQI",
        "outputId": "6a6bd32d-3e6c-4ed0-c252-066ac1c08ac7"
      },
      "source": [
        "df1"
      ],
      "execution_count": 106,
      "outputs": [
        {
          "output_type": "execute_result",
          "data": {
            "text/html": [
              "<div>\n",
              "<style scoped>\n",
              "    .dataframe tbody tr th:only-of-type {\n",
              "        vertical-align: middle;\n",
              "    }\n",
              "\n",
              "    .dataframe tbody tr th {\n",
              "        vertical-align: top;\n",
              "    }\n",
              "\n",
              "    .dataframe thead th {\n",
              "        text-align: right;\n",
              "    }\n",
              "</style>\n",
              "<table border=\"1\" class=\"dataframe\">\n",
              "  <thead>\n",
              "    <tr style=\"text-align: right;\">\n",
              "      <th></th>\n",
              "      <th>Party</th>\n",
              "    </tr>\n",
              "    <tr>\n",
              "      <th>Election Year</th>\n",
              "      <th></th>\n",
              "    </tr>\n",
              "  </thead>\n",
              "  <tbody>\n",
              "    <tr>\n",
              "      <th>2005-Feb</th>\n",
              "      <td>Rashtriya Janata Dal</td>\n",
              "    </tr>\n",
              "    <tr>\n",
              "      <th>2005-Oct</th>\n",
              "      <td>Rashtriya Janata Dal</td>\n",
              "    </tr>\n",
              "    <tr>\n",
              "      <th>2010</th>\n",
              "      <td>Janata Dal (United)</td>\n",
              "    </tr>\n",
              "    <tr>\n",
              "      <th>2015</th>\n",
              "      <td>Bharatiya Janta Party</td>\n",
              "    </tr>\n",
              "  </tbody>\n",
              "</table>\n",
              "</div>"
            ],
            "text/plain": [
              "                               Party\n",
              "Election Year                       \n",
              "2005-Feb        Rashtriya Janata Dal\n",
              "2005-Oct        Rashtriya Janata Dal\n",
              "2010             Janata Dal (United)\n",
              "2015           Bharatiya Janta Party"
            ]
          },
          "metadata": {
            "tags": []
          },
          "execution_count": 106
        }
      ]
    },
    {
      "cell_type": "code",
      "metadata": {
        "id": "dfTgcCUqS5u4"
      },
      "source": [
        "data['Election Year']=='2005-Feb'"
      ],
      "execution_count": null,
      "outputs": []
    },
    {
      "cell_type": "code",
      "metadata": {
        "id": "L2U3SqNfGRpk"
      },
      "source": [
        "data['Party']=data['Election Year'].map(df1['Party'])"
      ],
      "execution_count": 100,
      "outputs": []
    },
    {
      "cell_type": "code",
      "metadata": {
        "id": "DAtgGzRbGTMg"
      },
      "source": [
        "out=data.groupby(['Election Year','Party','AC name']).agg({'Votes':'sum'})"
      ],
      "execution_count": 95,
      "outputs": []
    },
    {
      "cell_type": "code",
      "metadata": {
        "colab": {
          "base_uri": "https://localhost:8080/",
          "height": 447
        },
        "id": "7wW1HievQM3r",
        "outputId": "3653df0a-abc2-413d-cccf-74583e565387"
      },
      "source": [
        "out"
      ],
      "execution_count": 96,
      "outputs": [
        {
          "output_type": "execute_result",
          "data": {
            "text/html": [
              "<div>\n",
              "<style scoped>\n",
              "    .dataframe tbody tr th:only-of-type {\n",
              "        vertical-align: middle;\n",
              "    }\n",
              "\n",
              "    .dataframe tbody tr th {\n",
              "        vertical-align: top;\n",
              "    }\n",
              "\n",
              "    .dataframe thead th {\n",
              "        text-align: right;\n",
              "    }\n",
              "</style>\n",
              "<table border=\"1\" class=\"dataframe\">\n",
              "  <thead>\n",
              "    <tr style=\"text-align: right;\">\n",
              "      <th></th>\n",
              "      <th></th>\n",
              "      <th></th>\n",
              "      <th>Votes</th>\n",
              "    </tr>\n",
              "    <tr>\n",
              "      <th>Election Year</th>\n",
              "      <th>Party</th>\n",
              "      <th>AC name</th>\n",
              "      <th></th>\n",
              "    </tr>\n",
              "  </thead>\n",
              "  <tbody>\n",
              "    <tr>\n",
              "      <th rowspan=\"5\" valign=\"top\">2005-Feb</th>\n",
              "      <th rowspan=\"5\" valign=\"top\">Rashtriya Janata Dal</th>\n",
              "      <th>Agiaon (SC)</th>\n",
              "      <td>102616</td>\n",
              "    </tr>\n",
              "    <tr>\n",
              "      <th>Alamnagar</th>\n",
              "      <td>96936</td>\n",
              "    </tr>\n",
              "    <tr>\n",
              "      <th>Alauli (SC)</th>\n",
              "      <td>133609</td>\n",
              "    </tr>\n",
              "    <tr>\n",
              "      <th>Alinagar</th>\n",
              "      <td>82949</td>\n",
              "    </tr>\n",
              "    <tr>\n",
              "      <th>Amarpur</th>\n",
              "      <td>104693</td>\n",
              "    </tr>\n",
              "    <tr>\n",
              "      <th>...</th>\n",
              "      <th>...</th>\n",
              "      <th>...</th>\n",
              "      <td>...</td>\n",
              "    </tr>\n",
              "    <tr>\n",
              "      <th rowspan=\"5\" valign=\"top\">2015</th>\n",
              "      <th rowspan=\"5\" valign=\"top\">Bharatiya Janta Party</th>\n",
              "      <th>Valmiki Nagar</th>\n",
              "      <td>178067</td>\n",
              "    </tr>\n",
              "    <tr>\n",
              "      <th>Warisnagar</th>\n",
              "      <td>160043</td>\n",
              "    </tr>\n",
              "    <tr>\n",
              "      <th>Warsaliganj</th>\n",
              "      <td>162970</td>\n",
              "    </tr>\n",
              "    <tr>\n",
              "      <th>Wazirganj</th>\n",
              "      <td>163275</td>\n",
              "    </tr>\n",
              "    <tr>\n",
              "      <th>Ziradei</th>\n",
              "      <td>133806</td>\n",
              "    </tr>\n",
              "  </tbody>\n",
              "</table>\n",
              "<p>966 rows × 1 columns</p>\n",
              "</div>"
            ],
            "text/plain": [
              "                                                    Votes\n",
              "Election Year Party                 AC name              \n",
              "2005-Feb      Rashtriya Janata Dal  Agiaon (SC)    102616\n",
              "                                    Alamnagar       96936\n",
              "                                    Alauli (SC)    133609\n",
              "                                    Alinagar        82949\n",
              "                                    Amarpur        104693\n",
              "...                                                   ...\n",
              "2015          Bharatiya Janta Party Valmiki Nagar  178067\n",
              "                                    Warisnagar     160043\n",
              "                                    Warsaliganj    162970\n",
              "                                    Wazirganj      163275\n",
              "                                    Ziradei        133806\n",
              "\n",
              "[966 rows x 1 columns]"
            ]
          },
          "metadata": {
            "tags": []
          },
          "execution_count": 96
        }
      ]
    }
  ]
}